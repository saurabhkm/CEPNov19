{
 "cells": [
  {
   "cell_type": "markdown",
   "metadata": {
    "colab_type": "text",
    "id": "5Oli51CrAmaB"
   },
   "source": [
    "# Basic design flow"
   ]
  },
  {
   "cell_type": "markdown",
   "metadata": {
    "colab_type": "text",
    "id": "iX_Q3WMdBOpR"
   },
   "source": [
    "## Torch\n",
    "\n",
    "1. Train a CIFAR classifer\n",
    "  - Loading and normalizing CIFAR10\n",
    "    - Using existing datasets class\n",
    "  - Visualize the data samples\n",
    "  - Define a Convolutional Neural Network\n",
    "    - Network structure\n",
    "    - Forward pass\n",
    "  - Define a Loss function and optimizer\n",
    "    - Loss functions and how to combine them\n",
    "    - Optimizer, example SGD and ADAM.\n",
    "  - Train the network\n",
    "    - Fetch a batch\n",
    "    - Move to GPU (optional)\n",
    "    - Make a forward pass\n",
    "    - Calculate the loss\n",
    "    - Do backpropagation\n",
    "    - Do an opptimizer step\n",
    "  - Test the network on the test data\n",
    "    - Fetch a batch/sample\n",
    "    - Move to device (optional)\n",
    "    - Make a forward pass\n",
    "    - Calculate performance metric/loss"
   ]
  },
  {
   "cell_type": "markdown",
   "metadata": {
    "colab_type": "text",
    "id": "lTX-MrRiBRA2"
   },
   "source": [
    "## Torchvision\n",
    "\n",
    "2. Using custom datasets\n",
    "  - Defining a custom dataset\n",
    "  - Fetching mini bathes form the dataset using a dataloader\n",
    "  - Transforming dataset on GPU using torchvision.tranforms\n",
    "  - Composing transforms"
   ]
  },
  {
   "cell_type": "markdown",
   "metadata": {
    "colab_type": "text",
    "id": "D9XlqUwlAt3p"
   },
   "source": [
    "## In-class demo\n",
    "\n",
    "In the session, I used the Pytorch tutorials available here: https://pytorch.org/tutorials/beginner/blitz/neural_networks_tutorial.html#sphx-glr-beginner-blitz-neural-networks-tutorial-py\n",
    "\n",
    "We tried out how to build a 10 class colour image classifier for CIFAR10 dataset. You may go to the above link and click on the 'Run on Collaboratory' button to try it out yourself."
   ]
  }
 ],
 "metadata": {
  "colab": {
   "collapsed_sections": [],
   "name": "GNR638 : ML4RS : Typical Workflow",
   "provenance": []
  },
  "kernelspec": {
   "display_name": "Python 3",
   "language": "python",
   "name": "python3"
  },
  "language_info": {
   "codemirror_mode": {
    "name": "ipython",
    "version": 3
   },
   "file_extension": ".py",
   "mimetype": "text/x-python",
   "name": "python",
   "nbconvert_exporter": "python",
   "pygments_lexer": "ipython3",
   "version": "3.7.3"
  }
 },
 "nbformat": 4,
 "nbformat_minor": 1
}
