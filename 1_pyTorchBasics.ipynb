{
 "cells": [
  {
   "cell_type": "markdown",
   "metadata": {
    "colab_type": "text",
    "id": "DV6MRmqxBuHh"
   },
   "source": [
    "# Deep Learning for Satellite Image Analysis\n",
    "## Hands on Session"
   ]
  },
  {
   "cell_type": "markdown",
   "metadata": {
    "colab_type": "text",
    "id": "8ZnPObziB3LD"
   },
   "source": [
    "#### Quick Intro to Python\n",
    "\n",
    "10 minutes tutorial to python:\n",
    "https://www.stavros.io/tutorials/python/"
   ]
  },
  {
   "cell_type": "markdown",
   "metadata": {
    "colab_type": "text",
    "id": "e6YJqFsTB_E7"
   },
   "source": [
    "##### Basic array manupulation and plotting\n",
    "numpy and matplotlib"
   ]
  },
  {
   "cell_type": "code",
   "execution_count": 0,
   "metadata": {
    "colab": {},
    "colab_type": "code",
    "id": "eHlXwEiOBtOb"
   },
   "outputs": [],
   "source": [
    "import numpy as np\n",
    "import matplotlib.pyplot as plt"
   ]
  },
  {
   "cell_type": "code",
   "execution_count": 0,
   "metadata": {
    "colab": {
     "base_uri": "https://localhost:8080/",
     "height": 312
    },
    "colab_type": "code",
    "id": "631C2GN2CT0I",
    "outputId": "c250ba4f-f493-46b6-af14-6e72548089ca"
   },
   "outputs": [
    {
     "data": {
      "text/plain": [
       "Text(0.5, 1.0, 'Sine wave')"
      ]
     },
     "execution_count": 2,
     "metadata": {
      "tags": []
     },
     "output_type": "execute_result"
    },
    {
     "data": {
      "image/png": "[encoded data removed]",
      "text/plain": [
       "<Figure size 432x288 with 1 Axes>"
      ]
     },
     "metadata": {
      "tags": []
     },
     "output_type": "display_data"
    }
   ],
   "source": [
    "Fs = 8000\n",
    "f = 5\n",
    "numSamples = 5000\n",
    "x = np.arange(numSamples)\n",
    "y = np.sin(2 * np.pi * f * x / Fs)\n",
    "plt.plot(x, y)\n",
    "plt.xlabel('sample(x)')\n",
    "plt.ylabel('voltage(y)')\n",
    "plt.title(\"Sine wave\")"
   ]
  },
  {
   "cell_type": "markdown",
   "metadata": {
    "colab_type": "text",
    "id": "C4M_1KJLCYXD"
   },
   "source": [
    "# What is PyTorch\n",
    "\n",
    "- A numpy like library with GPU capabilities\n",
    "- numpy like syntax\n",
    "- Can move around variables from and to numpy\n",
    "- Push variables to GPU with a single command\n",
    "- Automatic differention is the key powerful feature\n",
    "- Not just for training neural network\n",
    "\n",
    "\n",
    "_Note: In this tutorial we shall work with: pytorch=1.3, cuda=10.1 and torchvision=0.4.1_"
   ]
  },
  {
   "cell_type": "code",
   "execution_count": 0,
   "metadata": {
    "colab": {},
    "colab_type": "code",
    "id": "5JhcnBrHCWU6"
   },
   "outputs": [],
   "source": [
    "# Initializing\n",
    "import torch"
   ]
  },
  {
   "cell_type": "code",
   "execution_count": 0,
   "metadata": {
    "colab": {
     "base_uri": "https://localhost:8080/",
     "height": 102
    },
    "colab_type": "code",
    "id": "-iUi1eYQCfRG",
    "outputId": "c8017dba-7d71-4a2c-9589-181f3b920ff7"
   },
   "outputs": [
    {
     "name": "stdout",
     "output_type": "stream",
     "text": [
      "tensor([[0.1667, 0.0915, 0.1526],\n",
      "        [0.3578, 0.9397, 0.9176],\n",
      "        [0.0575, 0.0655, 0.3473],\n",
      "        [0.7913, 0.3839, 0.3879],\n",
      "        [0.2749, 0.0223, 0.8359]])\n"
     ]
    }
   ],
   "source": [
    "# Creating an empty tensor\n",
    "x = torch.empty(5, 3)\n",
    "# Creating a Tensor from Python list\n",
    "x = torch.tensor([5.5, 3])\n",
    "# # Creating a tensor filled with zeros\n",
    "x = torch.zeros(5, 3, dtype=torch.long)\n",
    "# # Creating a tensor filled with random entries\n",
    "x = torch.rand(5, 3)\n",
    "print(x)"
   ]
  },
  {
   "cell_type": "markdown",
   "metadata": {
    "colab_type": "text",
    "id": "t6MhYvqRCkQ7"
   },
   "source": [
    "Basic Operations"
   ]
  },
  {
   "cell_type": "code",
   "execution_count": 0,
   "metadata": {
    "colab": {
     "base_uri": "https://localhost:8080/",
     "height": 34
    },
    "colab_type": "code",
    "id": "BJENsHO9RmUe",
    "outputId": "8e7c5f38-9c15-4645-9e40-f6d338aa952b"
   },
   "outputs": [
    {
     "data": {
      "text/plain": [
       "torch.Size([5, 3])"
      ]
     },
     "execution_count": 14,
     "metadata": {
      "tags": []
     },
     "output_type": "execute_result"
    }
   ],
   "source": [
    "x.size()"
   ]
  },
  {
   "cell_type": "code",
   "execution_count": 0,
   "metadata": {
    "colab": {
     "base_uri": "https://localhost:8080/",
     "height": 323
    },
    "colab_type": "code",
    "id": "1vkhUcrHCjdI",
    "outputId": "d67a0c9e-89d2-4d20-f61d-4f18175c79ef"
   },
   "outputs": [
    {
     "name": "stdout",
     "output_type": "stream",
     "text": [
      "tensor([[0.9398, 1.1873, 1.4587],\n",
      "        [0.6820, 1.4792, 1.0221],\n",
      "        [0.9218, 1.1811, 0.6557],\n",
      "        [0.8453, 1.1616, 1.3356],\n",
      "        [0.4299, 0.9244, 0.9458]])\n",
      "tensor([[0.9398, 1.1873, 1.4587],\n",
      "        [0.6820, 1.4792, 1.0221],\n",
      "        [0.9218, 1.1811, 0.6557],\n",
      "        [0.8453, 1.1616, 1.3356],\n",
      "        [0.4299, 0.9244, 0.9458]])\n",
      "tensor([[0.9398, 1.1873, 1.4587],\n",
      "        [0.6820, 1.4792, 1.0221],\n",
      "        [0.9218, 1.1811, 0.6557],\n",
      "        [0.8453, 1.1616, 1.3356],\n",
      "        [0.4299, 0.9244, 0.9458]])\n",
      "tensor([0.7002, 0.7859, 0.6094, 0.8204, 0.8442])\n",
      "tensor([[0.4323, 0.7002, 0.9685, 0.5486, 0.7859, 0.4294, 0.2241, 0.6094, 0.1491,\n",
      "         0.6272, 0.8204, 0.9959, 0.0072, 0.8442, 0.7130]])\n"
     ]
    }
   ],
   "source": [
    "# Using overloaded + operator\n",
    "y = torch.rand(5, 3)\n",
    "print(x + y)\n",
    "# Using torch method\n",
    "print(torch.add(x, y))\n",
    "# Inplace addition\n",
    "y.add_(x)\n",
    "print(y)\n",
    "# Slicing\n",
    "print(x[:, 1])\n",
    "# Getting tensor size\n",
    "x.size()\n",
    "# Reshaping a tensor\n",
    "print(x.view(-1, 15))"
   ]
  },
  {
   "cell_type": "markdown",
   "metadata": {
    "colab_type": "text",
    "id": "XNJTRJR_CsuQ"
   },
   "source": [
    "PyTorch to Numpy and back"
   ]
  },
  {
   "cell_type": "code",
   "execution_count": 0,
   "metadata": {
    "colab": {
     "base_uri": "https://localhost:8080/",
     "height": 85
    },
    "colab_type": "code",
    "id": "eQ2xcM3iCr7O",
    "outputId": "8fbdef38-e9c9-4e59-990e-25c1a2c9d878"
   },
   "outputs": [
    {
     "name": "stdout",
     "output_type": "stream",
     "text": [
      "tensor([1., 1., 1., 1., 1.])\n",
      "[1. 1. 1. 1. 1.]\n",
      "0.13733527064323425\n",
      "tensor([1., 1., 1., 1., 1.], dtype=torch.float64)\n"
     ]
    }
   ],
   "source": [
    "# Tensor to numpy array\n",
    "a = torch.ones(5)\n",
    "print(a)\n",
    "b = a.numpy()\n",
    "print(b)\n",
    "# Single item tensor to python variable\n",
    "x = torch.randn(1)\n",
    "print(x.item())\n",
    "# From numpy array to tensor\n",
    "a = np.ones(5)\n",
    "b = torch.from_numpy(a)\n",
    "print(b)"
   ]
  },
  {
   "cell_type": "code",
   "execution_count": 0,
   "metadata": {
    "colab": {
     "base_uri": "https://localhost:8080/",
     "height": 51
    },
    "colab_type": "code",
    "id": "jpETzn7vCxR3",
    "outputId": "4af08137-17c0-43c6-a9ad-5877f5017fee"
   },
   "outputs": [
    {
     "name": "stdout",
     "output_type": "stream",
     "text": [
      "tensor([0.1373], device='cuda:0')\n",
      "tensor([0.1373])\n"
     ]
    }
   ],
   "source": [
    "# Sending tensor to GPU\n",
    "y = x.cuda()\n",
    "print(y)\n",
    "# Retieving tensor back from GPU\n",
    "z = y.cpu()\n",
    "print(z)"
   ]
  },
  {
   "cell_type": "code",
   "execution_count": 0,
   "metadata": {
    "colab": {
     "base_uri": "https://localhost:8080/",
     "height": 170
    },
    "colab_type": "code",
    "id": "Q8UJz8sAC0To",
    "outputId": "51bb2170-ac18-438d-8a4e-a7a75784eee3"
   },
   "outputs": [
    {
     "name": "stdout",
     "output_type": "stream",
     "text": [
      "tensor([[1., 1.],\n",
      "        [1., 1.]], requires_grad=True)\n",
      "tensor([[3., 3.],\n",
      "        [3., 3.]], grad_fn=<AddBackward0>)\n",
      "tensor([[27., 27.],\n",
      "        [27., 27.]], grad_fn=<MulBackward0>)\n",
      "tensor(27., grad_fn=<MeanBackward0>)\n",
      "tensor([[4.5000, 4.5000],\n",
      "        [4.5000, 4.5000]])\n"
     ]
    }
   ],
   "source": [
    "x = torch.ones(2, 2, requires_grad=True)\n",
    "print(x)\n",
    "y = x + 2\n",
    "print(y)\n",
    "z = y * y * 3\n",
    "out = z.mean()\n",
    "print(z)\n",
    "print(out)\n",
    "out.backward()\n",
    "print(x.grad)"
   ]
  },
  {
   "cell_type": "markdown",
   "metadata": {
    "colab_type": "text",
    "id": "enORGUCVC2xq"
   },
   "source": [
    "You should have got a matrix of 4.5. Let’s call the out _Tensor “o”_.\n",
    "\n",
    "We have that $o = \\frac{1}{4}∑_i z_i$, $z_i=3(x_i+2)^2$ and $z_i∣_{x_i=1}=27$. Therefore, $\\frac{∂o}{∂x_i}=\\frac{3}{2}(x_i+2)$, hence $\\frac{∂o}{∂x_i}∣_{x_i=1}=\\frac{9}{2}=4.5.$"
   ]
  },
  {
   "cell_type": "markdown",
   "metadata": {
    "colab_type": "text",
    "id": "TrAh5FJaC6_V"
   },
   "source": [
    "# End of Part 1\n",
    "\n",
    "#### References\n",
    "\n",
    "- https://pytorch.org/tutorials/beginner/deep_learning_60min_blitz.html\n",
    "\n",
    "- https://github.com/yunjey/pytorch-tutorial"
   ]
  },
  {
   "cell_type": "code",
   "execution_count": 0,
   "metadata": {
    "colab": {},
    "colab_type": "code",
    "id": "ZF7AFpQgC7Qc"
   },
   "outputs": [],
   "source": []
  }
 ],
 "metadata": {
  "accelerator": "GPU",
  "colab": {
   "name": "PyTorch_Basics.ipynb",
   "provenance": []
  },
  "kernelspec": {
   "display_name": "Python 3",
   "language": "python",
   "name": "python3"
  },
  "language_info": {
   "codemirror_mode": {
    "name": "ipython",
    "version": 3
   },
   "file_extension": ".py",
   "mimetype": "text/x-python",
   "name": "python",
   "nbconvert_exporter": "python",
   "pygments_lexer": "ipython3",
   "version": "3.7.3"
  }
 },
 "nbformat": 4,
 "nbformat_minor": 1
}
